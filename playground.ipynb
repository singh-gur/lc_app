{
 "cells": [
  {
   "cell_type": "code",
   "execution_count": null,
   "id": "65a3d191",
   "metadata": {},
   "outputs": [],
   "source": [
    "from lc_app.core.scrapers.yf_scraper import YahooFinanceNewsScraper\n",
    "\n",
    "\n",
    "scraper = YahooFinanceNewsScraper()\n",
    "data = await scraper.scrape()\n"
   ]
  },
  {
   "cell_type": "code",
   "execution_count": null,
   "id": "108e2b8e",
   "metadata": {},
   "outputs": [],
   "source": [
    "print(data[0])"
   ]
  }
 ],
 "metadata": {
  "kernelspec": {
   "display_name": ".venv",
   "language": "python",
   "name": "python3"
  },
  "language_info": {
   "codemirror_mode": {
    "name": "ipython",
    "version": 3
   },
   "file_extension": ".py",
   "mimetype": "text/x-python",
   "name": "python",
   "nbconvert_exporter": "python",
   "pygments_lexer": "ipython3",
   "version": "3.13.1"
  }
 },
 "nbformat": 4,
 "nbformat_minor": 5
}
