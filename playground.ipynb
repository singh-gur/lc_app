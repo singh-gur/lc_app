{
 "cells": [
  {
   "cell_type": "code",
   "execution_count": 1,
   "id": "65a3d191",
   "metadata": {},
   "outputs": [],
   "source": [
    "from lc_app.core.scrapers.yf_scraper import YahooFinanceNewsScraper\n",
    "\n",
    "\n",
    "scraper = YahooFinanceNewsScraper(\"GOOG\")\n",
    "data = await scraper.scrape()\n"
   ]
  },
  {
   "cell_type": "code",
   "execution_count": 2,
   "id": "108e2b8e",
   "metadata": {},
   "outputs": [
    {
     "name": "stdout",
     "output_type": "stream",
     "text": [
      "title='Amazon to report first quarter earnings following White House tariff dustup' url='https://finance.yahoo.com/news/amazon-to-report-first-quarter-earnings-following-white-house-tariff-dustup-213429185.html' content='Amazon will report its first quarter earnings after the bell on Thursday, just two days after the White House slammed the company over reported plans to show the impact of tariffs on consumer goods prices.' date=datetime.datetime(2025, 4, 30, 1, 13, 6, 709156) ticker='GOOG' published_at='7 hours ago' source='Yahoo Finance' system='Yahoo Finance'\n"
     ]
    }
   ],
   "source": [
    "print(data[0])"
   ]
  }
 ],
 "metadata": {
  "kernelspec": {
   "display_name": ".venv",
   "language": "python",
   "name": "python3"
  },
  "language_info": {
   "codemirror_mode": {
    "name": "ipython",
    "version": 3
   },
   "file_extension": ".py",
   "mimetype": "text/x-python",
   "name": "python",
   "nbconvert_exporter": "python",
   "pygments_lexer": "ipython3",
   "version": "3.13.1"
  }
 },
 "nbformat": 4,
 "nbformat_minor": 5
}
